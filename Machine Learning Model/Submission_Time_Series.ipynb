{
  "nbformat": 4,
  "nbformat_minor": 0,
  "metadata": {
    "colab": {
      "provenance": []
    },
    "kernelspec": {
      "name": "python3",
      "display_name": "Python 3"
    },
    "language_info": {
      "name": "python"
    },
    "accelerator": "GPU",
    "gpuClass": "standard"
  },
  "cells": [
    {
      "cell_type": "markdown",
      "source": [
        "# **Submission Time Series**\n",
        "Nama : Zaki Anwar Farizan"
      ],
      "metadata": {
        "id": "TmS-2Mb0E6y6"
      }
    },
    {
      "cell_type": "markdown",
      "source": [
        "# Dataset Preparation"
      ],
      "metadata": {
        "id": "P2aJinWudDaQ"
      }
    },
    {
      "cell_type": "code",
      "source": [
        "! pip install kaggle"
      ],
      "metadata": {
        "colab": {
          "base_uri": "https://localhost:8080/"
        },
        "id": "H2lMBpBrFGpN",
        "outputId": "0c261ec7-1490-4730-b879-b273826fb1d9"
      },
      "execution_count": 1,
      "outputs": [
        {
          "output_type": "stream",
          "name": "stdout",
          "text": [
            "Looking in indexes: https://pypi.org/simple, https://us-python.pkg.dev/colab-wheels/public/simple/\n",
            "Requirement already satisfied: kaggle in /usr/local/lib/python3.7/dist-packages (1.5.12)\n",
            "Requirement already satisfied: python-dateutil in /usr/local/lib/python3.7/dist-packages (from kaggle) (2.8.2)\n",
            "Requirement already satisfied: python-slugify in /usr/local/lib/python3.7/dist-packages (from kaggle) (6.1.2)\n",
            "Requirement already satisfied: six>=1.10 in /usr/local/lib/python3.7/dist-packages (from kaggle) (1.15.0)\n",
            "Requirement already satisfied: urllib3 in /usr/local/lib/python3.7/dist-packages (from kaggle) (1.24.3)\n",
            "Requirement already satisfied: certifi in /usr/local/lib/python3.7/dist-packages (from kaggle) (2022.9.24)\n",
            "Requirement already satisfied: requests in /usr/local/lib/python3.7/dist-packages (from kaggle) (2.23.0)\n",
            "Requirement already satisfied: tqdm in /usr/local/lib/python3.7/dist-packages (from kaggle) (4.64.1)\n",
            "Requirement already satisfied: text-unidecode>=1.3 in /usr/local/lib/python3.7/dist-packages (from python-slugify->kaggle) (1.3)\n",
            "Requirement already satisfied: chardet<4,>=3.0.2 in /usr/local/lib/python3.7/dist-packages (from requests->kaggle) (3.0.4)\n",
            "Requirement already satisfied: idna<3,>=2.5 in /usr/local/lib/python3.7/dist-packages (from requests->kaggle) (2.10)\n"
          ]
        }
      ]
    },
    {
      "cell_type": "code",
      "source": [
        "! mkdir ~/.kaggle"
      ],
      "metadata": {
        "id": "0kTl0JHGdacN"
      },
      "execution_count": 2,
      "outputs": []
    },
    {
      "cell_type": "code",
      "source": [
        "! cp kaggle.json ~/.kaggle/"
      ],
      "metadata": {
        "id": "a33ffZ41ddsG"
      },
      "execution_count": 3,
      "outputs": []
    },
    {
      "cell_type": "code",
      "source": [
        "! chmod 600 ~/.kaggle/kaggle.json"
      ],
      "metadata": {
        "id": "u0p4fxhldiVA"
      },
      "execution_count": 4,
      "outputs": []
    },
    {
      "cell_type": "code",
      "source": [
        "! kaggle datasets download lsind18/daily-london-metal-fix-prices"
      ],
      "metadata": {
        "colab": {
          "base_uri": "https://localhost:8080/"
        },
        "id": "r9D2zCaVdvuy",
        "outputId": "e565a61f-f961-486f-f7a5-eb7c8a48be4d"
      },
      "execution_count": 5,
      "outputs": [
        {
          "output_type": "stream",
          "name": "stdout",
          "text": [
            "Downloading daily-london-metal-fix-prices.zip to /content\n",
            "\r  0% 0.00/136k [00:00<?, ?B/s]\n",
            "\r100% 136k/136k [00:00<00:00, 48.3MB/s]\n"
          ]
        }
      ]
    },
    {
      "cell_type": "code",
      "source": [
        "! unzip daily-london-metal-fix-prices"
      ],
      "metadata": {
        "colab": {
          "base_uri": "https://localhost:8080/"
        },
        "id": "H3UeMdEBd6n7",
        "outputId": "55b18aa4-7205-4235-e581-7c601f072882"
      },
      "execution_count": 6,
      "outputs": [
        {
          "output_type": "stream",
          "name": "stdout",
          "text": [
            "Archive:  daily-london-metal-fix-prices.zip\n",
            "  inflating: londonfixes-current-clean_1990_.csv  \n"
          ]
        }
      ]
    },
    {
      "cell_type": "code",
      "source": [
        "import pandas as pd\n",
        "\n",
        "df = pd.read_csv('londonfixes-current-clean_1990_.csv')"
      ],
      "metadata": {
        "id": "gJmo8D-leMSF"
      },
      "execution_count": 7,
      "outputs": []
    },
    {
      "cell_type": "code",
      "source": [
        "df.head()"
      ],
      "metadata": {
        "colab": {
          "base_uri": "https://localhost:8080/",
          "height": 354
        },
        "id": "NDOgrN6weUzv",
        "outputId": "44749073-b7ec-4bdd-bbdf-61af0bd5fe1b"
      },
      "execution_count": 8,
      "outputs": [
        {
          "output_type": "execute_result",
          "data": {
            "text/plain": [
              "         Date  Gold AM Fix  Gold PM Fix  Silver Fix  Platinum AM Fix  \\\n",
              "0  2022-04-29      1915.45       1911.3      23.445            932.0   \n",
              "1  2022-04-28      1890.00       1888.5      23.160            929.0   \n",
              "2  2022-04-27      1896.15       1885.8      23.635            910.0   \n",
              "3  2022-04-26      1903.40       1904.6      23.770            922.0   \n",
              "4  2022-04-25      1918.70       1895.0      23.515            925.0   \n",
              "\n",
              "   Platinum PM Fix  Palladium AM Fix  Palladium PM Fix  \n",
              "0            932.0            2303.0            2312.0  \n",
              "1            915.0            2250.0            2249.0  \n",
              "2            930.0            2179.0            2254.0  \n",
              "3            915.0            2168.0            2186.0  \n",
              "4            917.0            2303.0            2115.0  "
            ],
            "text/html": [
              "\n",
              "  <div id=\"df-a58cb8b2-c50c-4489-a9b7-2223409b4193\">\n",
              "    <div class=\"colab-df-container\">\n",
              "      <div>\n",
              "<style scoped>\n",
              "    .dataframe tbody tr th:only-of-type {\n",
              "        vertical-align: middle;\n",
              "    }\n",
              "\n",
              "    .dataframe tbody tr th {\n",
              "        vertical-align: top;\n",
              "    }\n",
              "\n",
              "    .dataframe thead th {\n",
              "        text-align: right;\n",
              "    }\n",
              "</style>\n",
              "<table border=\"1\" class=\"dataframe\">\n",
              "  <thead>\n",
              "    <tr style=\"text-align: right;\">\n",
              "      <th></th>\n",
              "      <th>Date</th>\n",
              "      <th>Gold AM Fix</th>\n",
              "      <th>Gold PM Fix</th>\n",
              "      <th>Silver Fix</th>\n",
              "      <th>Platinum AM Fix</th>\n",
              "      <th>Platinum PM Fix</th>\n",
              "      <th>Palladium AM Fix</th>\n",
              "      <th>Palladium PM Fix</th>\n",
              "    </tr>\n",
              "  </thead>\n",
              "  <tbody>\n",
              "    <tr>\n",
              "      <th>0</th>\n",
              "      <td>2022-04-29</td>\n",
              "      <td>1915.45</td>\n",
              "      <td>1911.3</td>\n",
              "      <td>23.445</td>\n",
              "      <td>932.0</td>\n",
              "      <td>932.0</td>\n",
              "      <td>2303.0</td>\n",
              "      <td>2312.0</td>\n",
              "    </tr>\n",
              "    <tr>\n",
              "      <th>1</th>\n",
              "      <td>2022-04-28</td>\n",
              "      <td>1890.00</td>\n",
              "      <td>1888.5</td>\n",
              "      <td>23.160</td>\n",
              "      <td>929.0</td>\n",
              "      <td>915.0</td>\n",
              "      <td>2250.0</td>\n",
              "      <td>2249.0</td>\n",
              "    </tr>\n",
              "    <tr>\n",
              "      <th>2</th>\n",
              "      <td>2022-04-27</td>\n",
              "      <td>1896.15</td>\n",
              "      <td>1885.8</td>\n",
              "      <td>23.635</td>\n",
              "      <td>910.0</td>\n",
              "      <td>930.0</td>\n",
              "      <td>2179.0</td>\n",
              "      <td>2254.0</td>\n",
              "    </tr>\n",
              "    <tr>\n",
              "      <th>3</th>\n",
              "      <td>2022-04-26</td>\n",
              "      <td>1903.40</td>\n",
              "      <td>1904.6</td>\n",
              "      <td>23.770</td>\n",
              "      <td>922.0</td>\n",
              "      <td>915.0</td>\n",
              "      <td>2168.0</td>\n",
              "      <td>2186.0</td>\n",
              "    </tr>\n",
              "    <tr>\n",
              "      <th>4</th>\n",
              "      <td>2022-04-25</td>\n",
              "      <td>1918.70</td>\n",
              "      <td>1895.0</td>\n",
              "      <td>23.515</td>\n",
              "      <td>925.0</td>\n",
              "      <td>917.0</td>\n",
              "      <td>2303.0</td>\n",
              "      <td>2115.0</td>\n",
              "    </tr>\n",
              "  </tbody>\n",
              "</table>\n",
              "</div>\n",
              "      <button class=\"colab-df-convert\" onclick=\"convertToInteractive('df-a58cb8b2-c50c-4489-a9b7-2223409b4193')\"\n",
              "              title=\"Convert this dataframe to an interactive table.\"\n",
              "              style=\"display:none;\">\n",
              "        \n",
              "  <svg xmlns=\"http://www.w3.org/2000/svg\" height=\"24px\"viewBox=\"0 0 24 24\"\n",
              "       width=\"24px\">\n",
              "    <path d=\"M0 0h24v24H0V0z\" fill=\"none\"/>\n",
              "    <path d=\"M18.56 5.44l.94 2.06.94-2.06 2.06-.94-2.06-.94-.94-2.06-.94 2.06-2.06.94zm-11 1L8.5 8.5l.94-2.06 2.06-.94-2.06-.94L8.5 2.5l-.94 2.06-2.06.94zm10 10l.94 2.06.94-2.06 2.06-.94-2.06-.94-.94-2.06-.94 2.06-2.06.94z\"/><path d=\"M17.41 7.96l-1.37-1.37c-.4-.4-.92-.59-1.43-.59-.52 0-1.04.2-1.43.59L10.3 9.45l-7.72 7.72c-.78.78-.78 2.05 0 2.83L4 21.41c.39.39.9.59 1.41.59.51 0 1.02-.2 1.41-.59l7.78-7.78 2.81-2.81c.8-.78.8-2.07 0-2.86zM5.41 20L4 18.59l7.72-7.72 1.47 1.35L5.41 20z\"/>\n",
              "  </svg>\n",
              "      </button>\n",
              "      \n",
              "  <style>\n",
              "    .colab-df-container {\n",
              "      display:flex;\n",
              "      flex-wrap:wrap;\n",
              "      gap: 12px;\n",
              "    }\n",
              "\n",
              "    .colab-df-convert {\n",
              "      background-color: #E8F0FE;\n",
              "      border: none;\n",
              "      border-radius: 50%;\n",
              "      cursor: pointer;\n",
              "      display: none;\n",
              "      fill: #1967D2;\n",
              "      height: 32px;\n",
              "      padding: 0 0 0 0;\n",
              "      width: 32px;\n",
              "    }\n",
              "\n",
              "    .colab-df-convert:hover {\n",
              "      background-color: #E2EBFA;\n",
              "      box-shadow: 0px 1px 2px rgba(60, 64, 67, 0.3), 0px 1px 3px 1px rgba(60, 64, 67, 0.15);\n",
              "      fill: #174EA6;\n",
              "    }\n",
              "\n",
              "    [theme=dark] .colab-df-convert {\n",
              "      background-color: #3B4455;\n",
              "      fill: #D2E3FC;\n",
              "    }\n",
              "\n",
              "    [theme=dark] .colab-df-convert:hover {\n",
              "      background-color: #434B5C;\n",
              "      box-shadow: 0px 1px 3px 1px rgba(0, 0, 0, 0.15);\n",
              "      filter: drop-shadow(0px 1px 2px rgba(0, 0, 0, 0.3));\n",
              "      fill: #FFFFFF;\n",
              "    }\n",
              "  </style>\n",
              "\n",
              "      <script>\n",
              "        const buttonEl =\n",
              "          document.querySelector('#df-a58cb8b2-c50c-4489-a9b7-2223409b4193 button.colab-df-convert');\n",
              "        buttonEl.style.display =\n",
              "          google.colab.kernel.accessAllowed ? 'block' : 'none';\n",
              "\n",
              "        async function convertToInteractive(key) {\n",
              "          const element = document.querySelector('#df-a58cb8b2-c50c-4489-a9b7-2223409b4193');\n",
              "          const dataTable =\n",
              "            await google.colab.kernel.invokeFunction('convertToInteractive',\n",
              "                                                     [key], {});\n",
              "          if (!dataTable) return;\n",
              "\n",
              "          const docLinkHtml = 'Like what you see? Visit the ' +\n",
              "            '<a target=\"_blank\" href=https://colab.research.google.com/notebooks/data_table.ipynb>data table notebook</a>'\n",
              "            + ' to learn more about interactive tables.';\n",
              "          element.innerHTML = '';\n",
              "          dataTable['output_type'] = 'display_data';\n",
              "          await google.colab.output.renderOutput(dataTable, element);\n",
              "          const docLink = document.createElement('div');\n",
              "          docLink.innerHTML = docLinkHtml;\n",
              "          element.appendChild(docLink);\n",
              "        }\n",
              "      </script>\n",
              "    </div>\n",
              "  </div>\n",
              "  "
            ]
          },
          "metadata": {},
          "execution_count": 8
        }
      ]
    },
    {
      "cell_type": "code",
      "source": [
        "df.tail()"
      ],
      "metadata": {
        "colab": {
          "base_uri": "https://localhost:8080/",
          "height": 354
        },
        "id": "OkJ4naJIeblL",
        "outputId": "76e0dc03-7aa8-4867-ef9d-10ffe2d5e0a3"
      },
      "execution_count": 9,
      "outputs": [
        {
          "output_type": "execute_result",
          "data": {
            "text/plain": [
              "            Date  Gold AM Fix  Gold PM Fix  Silver Fix  Platinum AM Fix  \\\n",
              "8033  1990-04-06       380.35       377.70      5.1790           481.00   \n",
              "8034  1990-04-05       378.10       378.40      5.1475           481.75   \n",
              "8035  1990-04-04       374.25       374.25      5.0100           475.70   \n",
              "8036  1990-04-03       374.80       375.00      5.0010           475.80   \n",
              "8037  1990-04-02       368.00       368.40      4.9375           471.00   \n",
              "\n",
              "      Platinum PM Fix  Palladium AM Fix  Palladium PM Fix  \n",
              "8033           480.25            128.75            128.50  \n",
              "8034           481.85            128.40            127.75  \n",
              "8035           476.75            128.35            128.00  \n",
              "8036           477.25            128.35            128.50  \n",
              "8037           470.50            128.00            127.65  "
            ],
            "text/html": [
              "\n",
              "  <div id=\"df-6a9c7120-2bcd-44d4-8e55-bf7e9614bf5c\">\n",
              "    <div class=\"colab-df-container\">\n",
              "      <div>\n",
              "<style scoped>\n",
              "    .dataframe tbody tr th:only-of-type {\n",
              "        vertical-align: middle;\n",
              "    }\n",
              "\n",
              "    .dataframe tbody tr th {\n",
              "        vertical-align: top;\n",
              "    }\n",
              "\n",
              "    .dataframe thead th {\n",
              "        text-align: right;\n",
              "    }\n",
              "</style>\n",
              "<table border=\"1\" class=\"dataframe\">\n",
              "  <thead>\n",
              "    <tr style=\"text-align: right;\">\n",
              "      <th></th>\n",
              "      <th>Date</th>\n",
              "      <th>Gold AM Fix</th>\n",
              "      <th>Gold PM Fix</th>\n",
              "      <th>Silver Fix</th>\n",
              "      <th>Platinum AM Fix</th>\n",
              "      <th>Platinum PM Fix</th>\n",
              "      <th>Palladium AM Fix</th>\n",
              "      <th>Palladium PM Fix</th>\n",
              "    </tr>\n",
              "  </thead>\n",
              "  <tbody>\n",
              "    <tr>\n",
              "      <th>8033</th>\n",
              "      <td>1990-04-06</td>\n",
              "      <td>380.35</td>\n",
              "      <td>377.70</td>\n",
              "      <td>5.1790</td>\n",
              "      <td>481.00</td>\n",
              "      <td>480.25</td>\n",
              "      <td>128.75</td>\n",
              "      <td>128.50</td>\n",
              "    </tr>\n",
              "    <tr>\n",
              "      <th>8034</th>\n",
              "      <td>1990-04-05</td>\n",
              "      <td>378.10</td>\n",
              "      <td>378.40</td>\n",
              "      <td>5.1475</td>\n",
              "      <td>481.75</td>\n",
              "      <td>481.85</td>\n",
              "      <td>128.40</td>\n",
              "      <td>127.75</td>\n",
              "    </tr>\n",
              "    <tr>\n",
              "      <th>8035</th>\n",
              "      <td>1990-04-04</td>\n",
              "      <td>374.25</td>\n",
              "      <td>374.25</td>\n",
              "      <td>5.0100</td>\n",
              "      <td>475.70</td>\n",
              "      <td>476.75</td>\n",
              "      <td>128.35</td>\n",
              "      <td>128.00</td>\n",
              "    </tr>\n",
              "    <tr>\n",
              "      <th>8036</th>\n",
              "      <td>1990-04-03</td>\n",
              "      <td>374.80</td>\n",
              "      <td>375.00</td>\n",
              "      <td>5.0010</td>\n",
              "      <td>475.80</td>\n",
              "      <td>477.25</td>\n",
              "      <td>128.35</td>\n",
              "      <td>128.50</td>\n",
              "    </tr>\n",
              "    <tr>\n",
              "      <th>8037</th>\n",
              "      <td>1990-04-02</td>\n",
              "      <td>368.00</td>\n",
              "      <td>368.40</td>\n",
              "      <td>4.9375</td>\n",
              "      <td>471.00</td>\n",
              "      <td>470.50</td>\n",
              "      <td>128.00</td>\n",
              "      <td>127.65</td>\n",
              "    </tr>\n",
              "  </tbody>\n",
              "</table>\n",
              "</div>\n",
              "      <button class=\"colab-df-convert\" onclick=\"convertToInteractive('df-6a9c7120-2bcd-44d4-8e55-bf7e9614bf5c')\"\n",
              "              title=\"Convert this dataframe to an interactive table.\"\n",
              "              style=\"display:none;\">\n",
              "        \n",
              "  <svg xmlns=\"http://www.w3.org/2000/svg\" height=\"24px\"viewBox=\"0 0 24 24\"\n",
              "       width=\"24px\">\n",
              "    <path d=\"M0 0h24v24H0V0z\" fill=\"none\"/>\n",
              "    <path d=\"M18.56 5.44l.94 2.06.94-2.06 2.06-.94-2.06-.94-.94-2.06-.94 2.06-2.06.94zm-11 1L8.5 8.5l.94-2.06 2.06-.94-2.06-.94L8.5 2.5l-.94 2.06-2.06.94zm10 10l.94 2.06.94-2.06 2.06-.94-2.06-.94-.94-2.06-.94 2.06-2.06.94z\"/><path d=\"M17.41 7.96l-1.37-1.37c-.4-.4-.92-.59-1.43-.59-.52 0-1.04.2-1.43.59L10.3 9.45l-7.72 7.72c-.78.78-.78 2.05 0 2.83L4 21.41c.39.39.9.59 1.41.59.51 0 1.02-.2 1.41-.59l7.78-7.78 2.81-2.81c.8-.78.8-2.07 0-2.86zM5.41 20L4 18.59l7.72-7.72 1.47 1.35L5.41 20z\"/>\n",
              "  </svg>\n",
              "      </button>\n",
              "      \n",
              "  <style>\n",
              "    .colab-df-container {\n",
              "      display:flex;\n",
              "      flex-wrap:wrap;\n",
              "      gap: 12px;\n",
              "    }\n",
              "\n",
              "    .colab-df-convert {\n",
              "      background-color: #E8F0FE;\n",
              "      border: none;\n",
              "      border-radius: 50%;\n",
              "      cursor: pointer;\n",
              "      display: none;\n",
              "      fill: #1967D2;\n",
              "      height: 32px;\n",
              "      padding: 0 0 0 0;\n",
              "      width: 32px;\n",
              "    }\n",
              "\n",
              "    .colab-df-convert:hover {\n",
              "      background-color: #E2EBFA;\n",
              "      box-shadow: 0px 1px 2px rgba(60, 64, 67, 0.3), 0px 1px 3px 1px rgba(60, 64, 67, 0.15);\n",
              "      fill: #174EA6;\n",
              "    }\n",
              "\n",
              "    [theme=dark] .colab-df-convert {\n",
              "      background-color: #3B4455;\n",
              "      fill: #D2E3FC;\n",
              "    }\n",
              "\n",
              "    [theme=dark] .colab-df-convert:hover {\n",
              "      background-color: #434B5C;\n",
              "      box-shadow: 0px 1px 3px 1px rgba(0, 0, 0, 0.15);\n",
              "      filter: drop-shadow(0px 1px 2px rgba(0, 0, 0, 0.3));\n",
              "      fill: #FFFFFF;\n",
              "    }\n",
              "  </style>\n",
              "\n",
              "      <script>\n",
              "        const buttonEl =\n",
              "          document.querySelector('#df-6a9c7120-2bcd-44d4-8e55-bf7e9614bf5c button.colab-df-convert');\n",
              "        buttonEl.style.display =\n",
              "          google.colab.kernel.accessAllowed ? 'block' : 'none';\n",
              "\n",
              "        async function convertToInteractive(key) {\n",
              "          const element = document.querySelector('#df-6a9c7120-2bcd-44d4-8e55-bf7e9614bf5c');\n",
              "          const dataTable =\n",
              "            await google.colab.kernel.invokeFunction('convertToInteractive',\n",
              "                                                     [key], {});\n",
              "          if (!dataTable) return;\n",
              "\n",
              "          const docLinkHtml = 'Like what you see? Visit the ' +\n",
              "            '<a target=\"_blank\" href=https://colab.research.google.com/notebooks/data_table.ipynb>data table notebook</a>'\n",
              "            + ' to learn more about interactive tables.';\n",
              "          element.innerHTML = '';\n",
              "          dataTable['output_type'] = 'display_data';\n",
              "          await google.colab.output.renderOutput(dataTable, element);\n",
              "          const docLink = document.createElement('div');\n",
              "          docLink.innerHTML = docLinkHtml;\n",
              "          element.appendChild(docLink);\n",
              "        }\n",
              "      </script>\n",
              "    </div>\n",
              "  </div>\n",
              "  "
            ]
          },
          "metadata": {},
          "execution_count": 9
        }
      ]
    },
    {
      "cell_type": "markdown",
      "source": [
        "# Model Making"
      ],
      "metadata": {
        "id": "QJwKCM3TfMjk"
      }
    },
    {
      "cell_type": "code",
      "source": [
        "import numpy as np\n",
        "from keras.layers import Dense, LSTM\n",
        "import matplotlib.pyplot as plt\n",
        "import tensorflow as tf"
      ],
      "metadata": {
        "id": "zcNkvnOmfzyC"
      },
      "execution_count": 10,
      "outputs": []
    },
    {
      "cell_type": "code",
      "source": [
        "# Check Null Value\n",
        "df.isnull().sum()"
      ],
      "metadata": {
        "colab": {
          "base_uri": "https://localhost:8080/"
        },
        "id": "p0AlsiCvf4_9",
        "outputId": "23ac3590-044e-49ec-ff1f-191fe66cca16"
      },
      "execution_count": 11,
      "outputs": [
        {
          "output_type": "execute_result",
          "data": {
            "text/plain": [
              "Date                0\n",
              "Gold AM Fix         0\n",
              "Gold PM Fix         0\n",
              "Silver Fix          0\n",
              "Platinum AM Fix     0\n",
              "Platinum PM Fix     0\n",
              "Palladium AM Fix    0\n",
              "Palladium PM Fix    0\n",
              "dtype: int64"
            ]
          },
          "metadata": {},
          "execution_count": 11
        }
      ]
    },
    {
      "cell_type": "code",
      "source": [
        "# Plotting Data\n",
        "date = df['Date'].values\n",
        "silver = df['Silver Fix'].values\n",
        "\n",
        "plt.figure(figsize=(15,5))\n",
        "plt.plot(date, silver)\n",
        "plt.title('Silver Price 1990-2020',\n",
        "          fontsize=20);"
      ],
      "metadata": {
        "colab": {
          "base_uri": "https://localhost:8080/",
          "height": 336
        },
        "id": "xJi1016Nf9tx",
        "outputId": "b3fe5f49-4059-4ce8-e59b-dbe839c305ae"
      },
      "execution_count": 12,
      "outputs": [
        {
          "output_type": "display_data",
          "data": {
            "text/plain": [
              "<Figure size 1080x360 with 1 Axes>"
            ],
            "image/png": "[encoded data removed]"
          },
          "metadata": {
            "needs_background": "light"
          }
        }
      ]
    },
    {
      "cell_type": "code",
      "source": [
        "def windowed_dataset(series, window_size, batch_size, validation_split, shuffle_buffer):\n",
        "    series = tf.expand_dims(series, axis=-1)\n",
        "    ds = tf.data.Dataset.from_tensor_slices(series)\n",
        "    ds = ds.window(window_size + 1, shift=1, drop_remainder=True)\n",
        "    ds = ds.flat_map(lambda w: w.batch(window_size + 1))\n",
        "    ds = ds.shuffle(shuffle_buffer)\n",
        "    ds = ds.map(lambda w: (w[:-1], w[-1:]))\n",
        "    return ds.batch(batch_size).prefetch(1)"
      ],
      "metadata": {
        "id": "ZdpxLxSGlK1a"
      },
      "execution_count": 13,
      "outputs": []
    },
    {
      "cell_type": "code",
      "source": [
        "train_set = windowed_dataset(silver, window_size=60, batch_size=100, validation_split=0.2, shuffle_buffer=1000)\n",
        "model = tf.keras.models.Sequential([\n",
        "  tf.keras.layers.LSTM(60, return_sequences=True),\n",
        "  tf.keras.layers.LSTM(60),\n",
        "  tf.keras.layers.Dense(30, activation=\"relu\"),\n",
        "  tf.keras.layers.Dropout(rate=0.2),\n",
        "  tf.keras.layers.Dense(10, activation=\"relu\"),\n",
        "  tf.keras.layers.Dropout(rate=0.5),\n",
        "  tf.keras.layers.Dense(1),\n",
        "])"
      ],
      "metadata": {
        "id": "C1g-ijwwlhjL"
      },
      "execution_count": 14,
      "outputs": []
    },
    {
      "cell_type": "code",
      "source": [
        "optimizer = tf.keras.optimizers.SGD(lr=1.0000e-04, momentum=0.9)\n",
        "model.compile(loss=tf.keras.losses.Huber(),\n",
        "              optimizer=optimizer,\n",
        "              metrics=[\"mae\"])\n",
        "history = model.fit(train_set,epochs=100)"
      ],
      "metadata": {
        "colab": {
          "base_uri": "https://localhost:8080/"
        },
        "id": "nF1yuf0Bllnc",
        "outputId": "254d2e44-f4dd-4c2d-dacb-492da8c1eb2b"
      },
      "execution_count": 15,
      "outputs": [
        {
          "output_type": "stream",
          "name": "stdout",
          "text": [
            "Epoch 1/100\n"
          ]
        },
        {
          "output_type": "stream",
          "name": "stderr",
          "text": [
            "/usr/local/lib/python3.7/dist-packages/keras/optimizers/optimizer_v2/gradient_descent.py:108: UserWarning: The `lr` argument is deprecated, use `learning_rate` instead.\n",
            "  super(SGD, self).__init__(name, **kwargs)\n"
          ]
        },
        {
          "output_type": "stream",
          "name": "stdout",
          "text": [
            "80/80 [==============================] - 15s 21ms/step - loss: 11.6935 - mae: 12.1935\n",
            "Epoch 2/100\n",
            "80/80 [==============================] - 2s 17ms/step - loss: 11.3110 - mae: 11.8110\n",
            "Epoch 3/100\n",
            "80/80 [==============================] - 2s 18ms/step - loss: 10.7393 - mae: 11.2392\n",
            "Epoch 4/100\n",
            "80/80 [==============================] - 2s 18ms/step - loss: 9.6464 - mae: 10.1334\n",
            "Epoch 5/100\n",
            "80/80 [==============================] - 2s 18ms/step - loss: 8.5933 - mae: 9.0648\n",
            "Epoch 6/100\n",
            "80/80 [==============================] - 2s 17ms/step - loss: 7.9722 - mae: 8.4468\n",
            "Epoch 7/100\n",
            "80/80 [==============================] - 2s 18ms/step - loss: 7.3868 - mae: 7.8656\n",
            "Epoch 8/100\n",
            "80/80 [==============================] - 2s 17ms/step - loss: 6.8926 - mae: 7.3735\n",
            "Epoch 9/100\n",
            "80/80 [==============================] - 1s 17ms/step - loss: 6.4221 - mae: 6.8990\n",
            "Epoch 10/100\n",
            "80/80 [==============================] - 2s 17ms/step - loss: 5.8193 - mae: 6.2960\n",
            "Epoch 11/100\n",
            "80/80 [==============================] - 1s 16ms/step - loss: 5.6314 - mae: 6.1082\n",
            "Epoch 12/100\n",
            "80/80 [==============================] - 1s 17ms/step - loss: 5.6115 - mae: 6.0907\n",
            "Epoch 13/100\n",
            "80/80 [==============================] - 2s 17ms/step - loss: 5.4904 - mae: 5.9664\n",
            "Epoch 14/100\n",
            "80/80 [==============================] - 1s 17ms/step - loss: 5.3475 - mae: 5.8233\n",
            "Epoch 15/100\n",
            "80/80 [==============================] - 2s 17ms/step - loss: 5.2869 - mae: 5.7646\n",
            "Epoch 16/100\n",
            "80/80 [==============================] - 2s 17ms/step - loss: 5.2217 - mae: 5.6930\n",
            "Epoch 17/100\n",
            "80/80 [==============================] - 2s 17ms/step - loss: 5.2276 - mae: 5.6977\n",
            "Epoch 18/100\n",
            "80/80 [==============================] - 2s 19ms/step - loss: 5.0914 - mae: 5.5602\n",
            "Epoch 19/100\n",
            "80/80 [==============================] - 3s 29ms/step - loss: 4.8464 - mae: 5.3113\n",
            "Epoch 20/100\n",
            "80/80 [==============================] - 2s 17ms/step - loss: 4.8016 - mae: 5.2656\n",
            "Epoch 21/100\n",
            "80/80 [==============================] - 2s 17ms/step - loss: 4.7330 - mae: 5.1981\n",
            "Epoch 22/100\n",
            "80/80 [==============================] - 1s 17ms/step - loss: 4.6244 - mae: 5.0840\n",
            "Epoch 23/100\n",
            "80/80 [==============================] - 2s 17ms/step - loss: 4.6588 - mae: 5.1183\n",
            "Epoch 24/100\n",
            "80/80 [==============================] - 1s 16ms/step - loss: 4.5507 - mae: 5.0089\n",
            "Epoch 25/100\n",
            "80/80 [==============================] - 2s 17ms/step - loss: 4.4970 - mae: 4.9561\n",
            "Epoch 26/100\n",
            "80/80 [==============================] - 2s 17ms/step - loss: 4.4067 - mae: 4.8650\n",
            "Epoch 27/100\n",
            "80/80 [==============================] - 2s 17ms/step - loss: 4.4950 - mae: 4.9502\n",
            "Epoch 28/100\n",
            "80/80 [==============================] - 2s 17ms/step - loss: 4.3497 - mae: 4.8036\n",
            "Epoch 29/100\n",
            "80/80 [==============================] - 1s 17ms/step - loss: 4.3691 - mae: 4.8244\n",
            "Epoch 30/100\n",
            "80/80 [==============================] - 1s 17ms/step - loss: 4.3609 - mae: 4.8141\n",
            "Epoch 31/100\n",
            "80/80 [==============================] - 2s 17ms/step - loss: 4.3200 - mae: 4.7729\n",
            "Epoch 32/100\n",
            "80/80 [==============================] - 1s 17ms/step - loss: 4.3417 - mae: 4.7968\n",
            "Epoch 33/100\n",
            "80/80 [==============================] - 2s 18ms/step - loss: 4.2404 - mae: 4.6893\n",
            "Epoch 34/100\n",
            "80/80 [==============================] - 2s 17ms/step - loss: 4.2640 - mae: 4.7153\n",
            "Epoch 35/100\n",
            "80/80 [==============================] - 1s 17ms/step - loss: 4.2498 - mae: 4.6995\n",
            "Epoch 36/100\n",
            "80/80 [==============================] - 1s 17ms/step - loss: 4.1278 - mae: 4.5756\n",
            "Epoch 37/100\n",
            "80/80 [==============================] - 1s 17ms/step - loss: 4.2376 - mae: 4.6848\n",
            "Epoch 38/100\n",
            "80/80 [==============================] - 2s 17ms/step - loss: 4.1166 - mae: 4.5633\n",
            "Epoch 39/100\n",
            "80/80 [==============================] - 1s 17ms/step - loss: 4.1413 - mae: 4.5877\n",
            "Epoch 40/100\n",
            "80/80 [==============================] - 2s 18ms/step - loss: 4.0561 - mae: 4.4995\n",
            "Epoch 41/100\n",
            "80/80 [==============================] - 2s 18ms/step - loss: 4.2037 - mae: 4.6484\n",
            "Epoch 42/100\n",
            "80/80 [==============================] - 2s 18ms/step - loss: 4.1144 - mae: 4.5622\n",
            "Epoch 43/100\n",
            "80/80 [==============================] - 2s 18ms/step - loss: 4.0875 - mae: 4.5298\n",
            "Epoch 44/100\n",
            "80/80 [==============================] - 1s 17ms/step - loss: 4.0609 - mae: 4.5008\n",
            "Epoch 45/100\n",
            "80/80 [==============================] - 2s 18ms/step - loss: 3.9200 - mae: 4.3581\n",
            "Epoch 46/100\n",
            "80/80 [==============================] - 2s 18ms/step - loss: 4.1443 - mae: 4.5858\n",
            "Epoch 47/100\n",
            "80/80 [==============================] - 2s 17ms/step - loss: 4.0064 - mae: 4.4452\n",
            "Epoch 48/100\n",
            "80/80 [==============================] - 2s 17ms/step - loss: 4.1316 - mae: 4.5708\n",
            "Epoch 49/100\n",
            "80/80 [==============================] - 1s 17ms/step - loss: 4.0213 - mae: 4.4591\n",
            "Epoch 50/100\n",
            "80/80 [==============================] - 2s 18ms/step - loss: 3.9898 - mae: 4.4275\n",
            "Epoch 51/100\n",
            "80/80 [==============================] - 2s 17ms/step - loss: 3.9650 - mae: 4.4053\n",
            "Epoch 52/100\n",
            "80/80 [==============================] - 2s 17ms/step - loss: 3.9518 - mae: 4.3892\n",
            "Epoch 53/100\n",
            "80/80 [==============================] - 2s 17ms/step - loss: 3.9349 - mae: 4.3706\n",
            "Epoch 54/100\n",
            "80/80 [==============================] - 1s 17ms/step - loss: 3.8891 - mae: 4.3232\n",
            "Epoch 55/100\n",
            "80/80 [==============================] - 1s 17ms/step - loss: 3.8939 - mae: 4.3302\n",
            "Epoch 56/100\n",
            "80/80 [==============================] - 2s 17ms/step - loss: 3.9106 - mae: 4.3507\n",
            "Epoch 57/100\n",
            "80/80 [==============================] - 1s 17ms/step - loss: 3.8695 - mae: 4.3093\n",
            "Epoch 58/100\n",
            "80/80 [==============================] - 2s 17ms/step - loss: 3.8662 - mae: 4.3012\n",
            "Epoch 59/100\n",
            "80/80 [==============================] - 2s 17ms/step - loss: 3.7740 - mae: 4.2036\n",
            "Epoch 60/100\n",
            "80/80 [==============================] - 1s 17ms/step - loss: 3.8597 - mae: 4.2913\n",
            "Epoch 61/100\n",
            "80/80 [==============================] - 2s 17ms/step - loss: 3.7656 - mae: 4.2004\n",
            "Epoch 62/100\n",
            "80/80 [==============================] - 2s 17ms/step - loss: 3.8392 - mae: 4.2726\n",
            "Epoch 63/100\n",
            "80/80 [==============================] - 2s 17ms/step - loss: 3.9194 - mae: 4.3506\n",
            "Epoch 64/100\n",
            "80/80 [==============================] - 2s 17ms/step - loss: 3.7930 - mae: 4.2334\n",
            "Epoch 65/100\n",
            "80/80 [==============================] - 2s 18ms/step - loss: 3.8285 - mae: 4.2656\n",
            "Epoch 66/100\n",
            "80/80 [==============================] - 2s 17ms/step - loss: 3.7240 - mae: 4.1564\n",
            "Epoch 67/100\n",
            "80/80 [==============================] - 2s 18ms/step - loss: 3.7347 - mae: 4.1663\n",
            "Epoch 68/100\n",
            "80/80 [==============================] - 2s 17ms/step - loss: 3.7398 - mae: 4.1725\n",
            "Epoch 69/100\n",
            "80/80 [==============================] - 2s 17ms/step - loss: 3.7426 - mae: 4.1721\n",
            "Epoch 70/100\n",
            "80/80 [==============================] - 3s 32ms/step - loss: 3.7519 - mae: 4.1851\n",
            "Epoch 71/100\n",
            "80/80 [==============================] - 2s 18ms/step - loss: 3.6853 - mae: 4.1105\n",
            "Epoch 72/100\n",
            "80/80 [==============================] - 2s 18ms/step - loss: 3.7007 - mae: 4.1289\n",
            "Epoch 73/100\n",
            "80/80 [==============================] - 2s 18ms/step - loss: 3.6143 - mae: 4.0382\n",
            "Epoch 74/100\n",
            "80/80 [==============================] - 2s 18ms/step - loss: 3.6984 - mae: 4.1286\n",
            "Epoch 75/100\n",
            "80/80 [==============================] - 2s 18ms/step - loss: 3.6627 - mae: 4.0916\n",
            "Epoch 76/100\n",
            "80/80 [==============================] - 2s 17ms/step - loss: 3.6520 - mae: 4.0832\n",
            "Epoch 77/100\n",
            "80/80 [==============================] - 2s 17ms/step - loss: 3.6101 - mae: 4.0382\n",
            "Epoch 78/100\n",
            "80/80 [==============================] - 1s 17ms/step - loss: 3.6668 - mae: 4.0942\n",
            "Epoch 79/100\n",
            "80/80 [==============================] - 2s 17ms/step - loss: 3.5688 - mae: 3.9933\n",
            "Epoch 80/100\n",
            "80/80 [==============================] - 2s 18ms/step - loss: 3.5500 - mae: 3.9719\n",
            "Epoch 81/100\n",
            "80/80 [==============================] - 2s 18ms/step - loss: 3.4894 - mae: 3.9149\n",
            "Epoch 82/100\n",
            "80/80 [==============================] - 2s 18ms/step - loss: 3.5735 - mae: 3.9952\n",
            "Epoch 83/100\n",
            "80/80 [==============================] - 2s 18ms/step - loss: 3.5636 - mae: 3.9851\n",
            "Epoch 84/100\n",
            "80/80 [==============================] - 2s 17ms/step - loss: 3.5306 - mae: 3.9542\n",
            "Epoch 85/100\n",
            "80/80 [==============================] - 2s 17ms/step - loss: 3.5994 - mae: 4.0208\n",
            "Epoch 86/100\n",
            "80/80 [==============================] - 2s 17ms/step - loss: 3.4940 - mae: 3.9124\n",
            "Epoch 87/100\n",
            "80/80 [==============================] - 2s 17ms/step - loss: 3.4870 - mae: 3.9075\n",
            "Epoch 88/100\n",
            "80/80 [==============================] - 2s 17ms/step - loss: 3.4992 - mae: 3.9221\n",
            "Epoch 89/100\n",
            "80/80 [==============================] - 2s 18ms/step - loss: 3.4978 - mae: 3.9171\n",
            "Epoch 90/100\n",
            "80/80 [==============================] - 2s 18ms/step - loss: 3.4499 - mae: 3.8716\n",
            "Epoch 91/100\n",
            "80/80 [==============================] - 2s 17ms/step - loss: 3.4921 - mae: 3.9152\n",
            "Epoch 92/100\n",
            "80/80 [==============================] - 2s 18ms/step - loss: 3.5273 - mae: 3.9474\n",
            "Epoch 93/100\n",
            "80/80 [==============================] - 2s 17ms/step - loss: 3.3748 - mae: 3.7921\n",
            "Epoch 94/100\n",
            "80/80 [==============================] - 2s 17ms/step - loss: 3.4236 - mae: 3.8377\n",
            "Epoch 95/100\n",
            "80/80 [==============================] - 2s 18ms/step - loss: 3.4413 - mae: 3.8604\n",
            "Epoch 96/100\n",
            "80/80 [==============================] - 2s 18ms/step - loss: 3.4322 - mae: 3.8480\n",
            "Epoch 97/100\n",
            "80/80 [==============================] - 2s 17ms/step - loss: 3.3797 - mae: 3.7948\n",
            "Epoch 98/100\n",
            "80/80 [==============================] - 2s 17ms/step - loss: 3.4673 - mae: 3.8791\n",
            "Epoch 99/100\n",
            "80/80 [==============================] - 2s 18ms/step - loss: 3.3740 - mae: 3.7885\n",
            "Epoch 100/100\n",
            "80/80 [==============================] - 2s 18ms/step - loss: 3.3102 - mae: 3.7242\n"
          ]
        }
      ]
    },
    {
      "cell_type": "code",
      "source": [
        "threshold_mae = (df['Silver Fix'].max() - df['Silver Fix'].min()) * 10/100\n",
        "threshold_mae"
      ],
      "metadata": {
        "id": "jaJN2uJDmB6u",
        "colab": {
          "base_uri": "https://localhost:8080/"
        },
        "outputId": "14e88753-ff9e-41cd-e717-b0d82750d065"
      },
      "execution_count": 16,
      "outputs": [
        {
          "output_type": "execute_result",
          "data": {
            "text/plain": [
              "4.51525"
            ]
          },
          "metadata": {},
          "execution_count": 16
        }
      ]
    },
    {
      "cell_type": "code",
      "source": [],
      "metadata": {
        "id": "Iy8WCnQx-3dJ"
      },
      "execution_count": null,
      "outputs": []
    }
  ]
}